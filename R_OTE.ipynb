{
 "cells": [
  {
   "cell_type": "markdown",
   "metadata": {},
   "source": [
    "# package"
   ]
  },
  {
   "cell_type": "code",
   "execution_count": 1,
   "metadata": {
    "vscode": {
     "languageId": "r"
    }
   },
   "outputs": [
    {
     "name": "stderr",
     "output_type": "stream",
     "text": [
      "── \u001b[1mAttaching core tidyverse packages\u001b[22m ─────────────────────────── tidyverse 2.0.0 ──\n",
      "\u001b[32m✔\u001b[39m \u001b[34mdplyr    \u001b[39m 1.1.2     \u001b[32m✔\u001b[39m \u001b[34mreadr    \u001b[39m 2.1.4\n",
      "\u001b[32m✔\u001b[39m \u001b[34mforcats  \u001b[39m 1.0.0     \u001b[32m✔\u001b[39m \u001b[34mstringr  \u001b[39m 1.5.0\n",
      "\u001b[32m✔\u001b[39m \u001b[34mggplot2  \u001b[39m 3.4.2     \u001b[32m✔\u001b[39m \u001b[34mtibble   \u001b[39m 3.2.1\n",
      "\u001b[32m✔\u001b[39m \u001b[34mlubridate\u001b[39m 1.9.2     \u001b[32m✔\u001b[39m \u001b[34mtidyr    \u001b[39m 1.3.0\n",
      "\u001b[32m✔\u001b[39m \u001b[34mpurrr    \u001b[39m 1.0.1     \n",
      "── \u001b[1mConflicts\u001b[22m ───────────────────────────────────────────── tidyverse_conflicts() ──\n",
      "\u001b[31m✖\u001b[39m \u001b[34mdplyr\u001b[39m::\u001b[32mfilter()\u001b[39m masks \u001b[34mstats\u001b[39m::filter()\n",
      "\u001b[31m✖\u001b[39m \u001b[34mdplyr\u001b[39m::\u001b[32mlag()\u001b[39m    masks \u001b[34mstats\u001b[39m::lag()\n",
      "\u001b[36mℹ\u001b[39m Use the conflicted package (\u001b[3m\u001b[34m<http://conflicted.r-lib.org/>\u001b[39m\u001b[23m) to force all conflicts to become errors\n"
     ]
    }
   ],
   "source": [
    "library(tidyverse)"
   ]
  },
  {
   "cell_type": "code",
   "execution_count": 2,
   "metadata": {
    "vscode": {
     "languageId": "r"
    }
   },
   "outputs": [
    {
     "name": "stderr",
     "output_type": "stream",
     "text": [
      "\n",
      " 次のパッケージを付け加えます: ‘sparklyr’ \n",
      "\n",
      "\n",
      " 以下のオブジェクトは ‘package:purrr’ からマスクされています:\n",
      "\n",
      "    invoke\n",
      "\n",
      "\n",
      " 以下のオブジェクトは ‘package:stats’ からマスクされています:\n",
      "\n",
      "    filter\n",
      "\n",
      "\n"
     ]
    }
   ],
   "source": [
    "library(sparklyr)"
   ]
  },
  {
   "cell_type": "code",
   "execution_count": 3,
   "metadata": {
    "vscode": {
     "languageId": "r"
    }
   },
   "outputs": [],
   "source": [
    "library(sparklyr.nested)"
   ]
  },
  {
   "cell_type": "code",
   "execution_count": 4,
   "metadata": {
    "vscode": {
     "languageId": "r"
    }
   },
   "outputs": [],
   "source": [
    "spark_conf <- sparklyr::spark_config()\n",
    "spark_conf$spark.executor.cores <- 2\n",
    "spark_conf$spark.executor.memory <- \"8G\"\n",
    "spark_conf$spark.driver.memory <- \"16G\""
   ]
  },
  {
   "cell_type": "code",
   "execution_count": 5,
   "metadata": {
    "vscode": {
     "languageId": "r"
    }
   },
   "outputs": [],
   "source": [
    "# spark_install()"
   ]
  },
  {
   "cell_type": "code",
   "execution_count": 6,
   "metadata": {
    "vscode": {
     "languageId": "r"
    }
   },
   "outputs": [],
   "source": [
    "## establish connection\n",
    "sc <- sparklyr::spark_connect(master = \"local\")"
   ]
  },
  {
   "cell_type": "markdown",
   "metadata": {},
   "source": [
    "# disease"
   ]
  },
  {
   "cell_type": "code",
   "execution_count": 7,
   "metadata": {},
   "outputs": [],
   "source": [
    "diseasePath <- \"./v23.02/diseases/\""
   ]
  },
  {
   "cell_type": "code",
   "execution_count": 8,
   "metadata": {
    "vscode": {
     "languageId": "r"
    }
   },
   "outputs": [],
   "source": [
    "## read dataset\n",
    "disease <- sparklyr::spark_read_json(sc, path = diseasePath)"
   ]
  },
  {
   "cell_type": "code",
   "execution_count": 9,
   "metadata": {},
   "outputs": [
    {
     "data": {
      "text/plain": [
       "\u001b[90m# Source: spark<?> [?? x 15]\u001b[39m\n",
       "  ancestors   children   code  dbXRefs descendants description directLocationIds\n",
       "  \u001b[3m\u001b[90m<list>\u001b[39m\u001b[23m      \u001b[3m\u001b[90m<list>\u001b[39m\u001b[23m     \u001b[3m\u001b[90m<chr>\u001b[39m\u001b[23m \u001b[3m\u001b[90m<list>\u001b[39m\u001b[23m  \u001b[3m\u001b[90m<list>\u001b[39m\u001b[23m      \u001b[3m\u001b[90m<chr>\u001b[39m\u001b[23m       \u001b[3m\u001b[90m<list>\u001b[39m\u001b[23m           \n",
       "\u001b[90m1\u001b[39m \u001b[90m<list [19]>\u001b[39m \u001b[90m<list [0]>\u001b[39m http… \u001b[90m<list>\u001b[39m  \u001b[90m<list [0]>\u001b[39m  A mature T… \u001b[90m<lgl [1]>\u001b[39m        \n",
       "\u001b[90m2\u001b[39m \u001b[90m<list [1]>\u001b[39m  \u001b[90m<list>\u001b[39m     http… \u001b[90m<list>\u001b[39m  \u001b[90m<list>\u001b[39m      Genetic di… \u001b[90m<lgl [1]>\u001b[39m        \n",
       "\u001b[90m3\u001b[39m \u001b[90m<list [16]>\u001b[39m \u001b[90m<list [4]>\u001b[39m http… \u001b[90m<list>\u001b[39m  \u001b[90m<list [4]>\u001b[39m  A chronic … \u001b[90m<lgl [1]>\u001b[39m        \n",
       "\u001b[90m4\u001b[39m \u001b[90m<list [4]>\u001b[39m  \u001b[90m<list [1]>\u001b[39m http… \u001b[90m<list>\u001b[39m  \u001b[90m<list [2]>\u001b[39m  A disorder… \u001b[90m<lgl [1]>\u001b[39m        \n",
       "\u001b[90m5\u001b[39m \u001b[90m<list [1]>\u001b[39m  \u001b[90m<list>\u001b[39m     http… \u001b[90m<list>\u001b[39m  \u001b[90m<list [77]>\u001b[39m Anthropome… \u001b[90m<lgl [1]>\u001b[39m        \n",
       "\u001b[90m6\u001b[39m \u001b[90m<list [4]>\u001b[39m  \u001b[90m<list [0]>\u001b[39m http… \u001b[90m<list>\u001b[39m  \u001b[90m<list [0]>\u001b[39m  Atrophy of… \u001b[90m<lgl [1]>\u001b[39m        \n",
       "\u001b[90m# ℹ 8 more variables: id <chr>, indirectLocationIds <list>, name <chr>,\u001b[39m\n",
       "\u001b[90m#   obsoleteTerms <list>, ontology <list>, parents <list>, synonyms <list>,\u001b[39m\n",
       "\u001b[90m#   therapeuticAreas <list>\u001b[39m"
      ]
     },
     "metadata": {},
     "output_type": "display_data"
    }
   ],
   "source": [
    "head(disease)"
   ]
  },
  {
   "cell_type": "code",
   "execution_count": 10,
   "metadata": {},
   "outputs": [
    {
     "data": {
      "text/html": [
       "<style>\n",
       ".list-inline {list-style: none; margin:0; padding: 0}\n",
       ".list-inline>li {display: inline-block}\n",
       ".list-inline>li:not(:last-child)::after {content: \"\\00b7\"; padding: 0 .5ex}\n",
       "</style>\n",
       "<ol class=list-inline><li>&lt;NA&gt;</li><li>15</li></ol>\n"
      ],
      "text/latex": [
       "\\begin{enumerate*}\n",
       "\\item <NA>\n",
       "\\item 15\n",
       "\\end{enumerate*}\n"
      ],
      "text/markdown": [
       "1. &lt;NA&gt;\n",
       "2. 15\n",
       "\n",
       "\n"
      ],
      "text/plain": [
       "[1] NA 15"
      ]
     },
     "metadata": {},
     "output_type": "display_data"
    }
   ],
   "source": [
    "dim(disease)"
   ]
  },
  {
   "cell_type": "markdown",
   "metadata": {},
   "source": [
    "## diseasetable"
   ]
  },
  {
   "cell_type": "code",
   "execution_count": 11,
   "metadata": {},
   "outputs": [],
   "source": [
    "temp <- disease %>% \n",
    "    sparklyr::mutate(therapeuticAreasName = name) %>%\n",
    "    sparklyr::select(id, therapeuticAreasName)"
   ]
  },
  {
   "cell_type": "code",
   "execution_count": 12,
   "metadata": {},
   "outputs": [],
   "source": [
    "diseasetable <- disease %>% \n",
    "    sparklyr.nested::sdf_explode(therapeuticAreas)%>%\n",
    "    sparklyr::left_join(temp, by = c(\"therapeuticAreas\" = \"id\")) %>%\n",
    "    sparklyr::select(therapeuticAreasName, id, name)"
   ]
  },
  {
   "cell_type": "code",
   "execution_count": 13,
   "metadata": {},
   "outputs": [
    {
     "data": {
      "text/plain": [
       "\u001b[90m# Source: spark<?> [?? x 3]\u001b[39m\n",
       "  therapeuticAreasName                    id          name                      \n",
       "  \u001b[3m\u001b[90m<chr>\u001b[39m\u001b[23m                                   \u001b[3m\u001b[90m<chr>\u001b[39m\u001b[23m       \u001b[3m\u001b[90m<chr>\u001b[39m\u001b[23m                     \n",
       "\u001b[90m1\u001b[39m genetic, familial or congenital disease EFO_0000255 angioimmunoblastic T-cell…\n",
       "\u001b[90m2\u001b[39m cancer or benign tumor                  EFO_0000255 angioimmunoblastic T-cell…\n",
       "\u001b[90m3\u001b[39m hematologic disease                     EFO_0000255 angioimmunoblastic T-cell…\n",
       "\u001b[90m4\u001b[39m genetic, familial or congenital disease EFO_0000508 genetic disorder          \n",
       "\u001b[90m5\u001b[39m reproductive system or breast disease   EFO_0001054 leprosy                   \n",
       "\u001b[90m6\u001b[39m infectious disease                      EFO_0001054 leprosy                   "
      ]
     },
     "metadata": {},
     "output_type": "display_data"
    }
   ],
   "source": [
    "head(diseasetable)"
   ]
  },
  {
   "cell_type": "code",
   "execution_count": 14,
   "metadata": {},
   "outputs": [
    {
     "data": {
      "text/html": [
       "<style>\n",
       ".list-inline {list-style: none; margin:0; padding: 0}\n",
       ".list-inline>li {display: inline-block}\n",
       ".list-inline>li:not(:last-child)::after {content: \"\\00b7\"; padding: 0 .5ex}\n",
       "</style>\n",
       "<ol class=list-inline><li>&lt;NA&gt;</li><li>3</li></ol>\n"
      ],
      "text/latex": [
       "\\begin{enumerate*}\n",
       "\\item <NA>\n",
       "\\item 3\n",
       "\\end{enumerate*}\n"
      ],
      "text/markdown": [
       "1. &lt;NA&gt;\n",
       "2. 3\n",
       "\n",
       "\n"
      ],
      "text/plain": [
       "[1] NA  3"
      ]
     },
     "metadata": {},
     "output_type": "display_data"
    }
   ],
   "source": [
    "dim(diseasetable)"
   ]
  },
  {
   "cell_type": "markdown",
   "metadata": {
    "jp-MarkdownHeadingCollapsed": true
   },
   "source": [
    "## diseasetable_ISD"
   ]
  },
  {
   "cell_type": "code",
   "execution_count": null,
   "metadata": {},
   "outputs": [],
   "source": [
    "diseasetable_ISD <- diseasetable %>%\n",
    "    sparklyr::filter(therapeuticAreasName == \"immune system disease\")"
   ]
  },
  {
   "cell_type": "code",
   "execution_count": null,
   "metadata": {},
   "outputs": [],
   "source": [
    "head(diseasetable_ISD)"
   ]
  },
  {
   "cell_type": "code",
   "execution_count": null,
   "metadata": {},
   "outputs": [],
   "source": [
    "dim(diseasetable_ISD)"
   ]
  },
  {
   "attachments": {},
   "cell_type": "markdown",
   "metadata": {},
   "source": [
    "# overall"
   ]
  },
  {
   "cell_type": "code",
   "execution_count": 15,
   "metadata": {
    "vscode": {
     "languageId": "r"
    }
   },
   "outputs": [],
   "source": [
    "overallPath <- \"./v23.02/associationByOverallDirect/\""
   ]
  },
  {
   "cell_type": "code",
   "execution_count": 16,
   "metadata": {
    "vscode": {
     "languageId": "r"
    }
   },
   "outputs": [],
   "source": [
    "## read dataset\n",
    "overall <- sparklyr::spark_read_json(sc, path = overallPath)"
   ]
  },
  {
   "cell_type": "code",
   "execution_count": 17,
   "metadata": {
    "vscode": {
     "languageId": "r"
    }
   },
   "outputs": [
    {
     "data": {
      "text/plain": [
       "\u001b[90m# Source: spark<?> [?? x 4]\u001b[39m\n",
       "  diseaseId     evidenceCount   score targetId       \n",
       "  \u001b[3m\u001b[90m<chr>\u001b[39m\u001b[23m                 \u001b[3m\u001b[90m<dbl>\u001b[39m\u001b[23m   \u001b[3m\u001b[90m<dbl>\u001b[39m\u001b[23m \u001b[3m\u001b[90m<chr>\u001b[39m\u001b[23m          \n",
       "\u001b[90m1\u001b[39m MONDO_0004986             5 0.010\u001b[4m4\u001b[24m  ENSG00000000971\n",
       "\u001b[90m2\u001b[39m MONDO_0004986             2 0.003\u001b[4m5\u001b[24m\u001b[4m1\u001b[24m ENSG00000001626\n",
       "\u001b[90m3\u001b[39m MONDO_0004986             5 0.003\u001b[4m1\u001b[24m\u001b[4m7\u001b[24m ENSG00000002330\n",
       "\u001b[90m4\u001b[39m MONDO_0004986             1 0.001\u001b[4m4\u001b[24m\u001b[4m8\u001b[24m ENSG00000002587\n",
       "\u001b[90m5\u001b[39m MONDO_0004986             1 0.001\u001b[4m4\u001b[24m\u001b[4m8\u001b[24m ENSG00000002726\n",
       "\u001b[90m6\u001b[39m MONDO_0004986             2 0.002\u001b[4m5\u001b[24m\u001b[4m9\u001b[24m ENSG00000002745"
      ]
     },
     "metadata": {},
     "output_type": "display_data"
    }
   ],
   "source": [
    "head(overall)"
   ]
  },
  {
   "cell_type": "code",
   "execution_count": 18,
   "metadata": {
    "vscode": {
     "languageId": "r"
    }
   },
   "outputs": [
    {
     "data": {
      "text/html": [
       "<style>\n",
       ".list-inline {list-style: none; margin:0; padding: 0}\n",
       ".list-inline>li {display: inline-block}\n",
       ".list-inline>li:not(:last-child)::after {content: \"\\00b7\"; padding: 0 .5ex}\n",
       "</style>\n",
       "<ol class=list-inline><li>&lt;NA&gt;</li><li>4</li></ol>\n"
      ],
      "text/latex": [
       "\\begin{enumerate*}\n",
       "\\item <NA>\n",
       "\\item 4\n",
       "\\end{enumerate*}\n"
      ],
      "text/markdown": [
       "1. &lt;NA&gt;\n",
       "2. 4\n",
       "\n",
       "\n"
      ],
      "text/plain": [
       "[1] NA  4"
      ]
     },
     "metadata": {},
     "output_type": "display_data"
    }
   ],
   "source": [
    "dim(overall)"
   ]
  },
  {
   "cell_type": "markdown",
   "metadata": {},
   "source": [
    "## overalltable"
   ]
  },
  {
   "cell_type": "code",
   "execution_count": 19,
   "metadata": {},
   "outputs": [],
   "source": [
    "overalltable <- overall %>%\n",
    "    sparklyr::mutate(overall = score) %>%\n",
    "    sparklyr::select(diseaseId, targetId, overall) %>%\n",
    "    sparklyr::right_join(diseasetable, by = c(\"diseaseId\" = \"id\")) %>%\n",
    "    sparklyr::select(therapeuticAreasName, diseaseId, name, targetId, overall) "
   ]
  },
  {
   "cell_type": "code",
   "execution_count": 20,
   "metadata": {},
   "outputs": [
    {
     "data": {
      "text/plain": [
       "\u001b[90m# Source: spark<?> [?? x 5]\u001b[39m\n",
       "  therapeuticAreasName                         diseaseId  name  targetId overall\n",
       "  \u001b[3m\u001b[90m<chr>\u001b[39m\u001b[23m                                        \u001b[3m\u001b[90m<chr>\u001b[39m\u001b[23m      \u001b[3m\u001b[90m<chr>\u001b[39m\u001b[23m \u001b[3m\u001b[90m<chr>\u001b[39m\u001b[23m      \u001b[3m\u001b[90m<dbl>\u001b[39m\u001b[23m\n",
       "\u001b[90m1\u001b[39m musculoskeletal or connective tissue disease EFO_00003… chil… ENSG000…  0.037\u001b[4m0\u001b[24m\n",
       "\u001b[90m2\u001b[39m musculoskeletal or connective tissue disease EFO_00003… chil… ENSG000…  0.389 \n",
       "\u001b[90m3\u001b[39m musculoskeletal or connective tissue disease EFO_00003… chil… ENSG000…  0.014\u001b[4m8\u001b[24m\n",
       "\u001b[90m4\u001b[39m musculoskeletal or connective tissue disease EFO_00003… chil… ENSG000…  0.389 \n",
       "\u001b[90m5\u001b[39m musculoskeletal or connective tissue disease EFO_00003… chil… ENSG000…  0.268 \n",
       "\u001b[90m6\u001b[39m musculoskeletal or connective tissue disease EFO_00003… chil… ENSG000…  0.357 "
      ]
     },
     "metadata": {},
     "output_type": "display_data"
    }
   ],
   "source": [
    "head(overalltable)"
   ]
  },
  {
   "cell_type": "code",
   "execution_count": 21,
   "metadata": {},
   "outputs": [
    {
     "data": {
      "text/html": [
       "<style>\n",
       ".list-inline {list-style: none; margin:0; padding: 0}\n",
       ".list-inline>li {display: inline-block}\n",
       ".list-inline>li:not(:last-child)::after {content: \"\\00b7\"; padding: 0 .5ex}\n",
       "</style>\n",
       "<ol class=list-inline><li>&lt;NA&gt;</li><li>5</li></ol>\n"
      ],
      "text/latex": [
       "\\begin{enumerate*}\n",
       "\\item <NA>\n",
       "\\item 5\n",
       "\\end{enumerate*}\n"
      ],
      "text/markdown": [
       "1. &lt;NA&gt;\n",
       "2. 5\n",
       "\n",
       "\n"
      ],
      "text/plain": [
       "[1] NA  5"
      ]
     },
     "metadata": {},
     "output_type": "display_data"
    }
   ],
   "source": [
    "dim(overalltable)"
   ]
  },
  {
   "cell_type": "markdown",
   "metadata": {},
   "source": [
    "## overalltable_ISD"
   ]
  },
  {
   "cell_type": "code",
   "execution_count": 48,
   "metadata": {},
   "outputs": [],
   "source": [
    "overalltable_ISD <- overalltable %>%\n",
    "    sparklyr::filter(therapeuticAreasName == \"immune system disease\")"
   ]
  },
  {
   "cell_type": "code",
   "execution_count": 49,
   "metadata": {
    "vscode": {
     "languageId": "r"
    }
   },
   "outputs": [
    {
     "data": {
      "text/plain": [
       "\u001b[90m# Source: spark<?> [?? x 5]\u001b[39m\n",
       "  therapeuticAreasName  diseaseId   name                        targetId overall\n",
       "  \u001b[3m\u001b[90m<chr>\u001b[39m\u001b[23m                 \u001b[3m\u001b[90m<chr>\u001b[39m\u001b[23m       \u001b[3m\u001b[90m<chr>\u001b[39m\u001b[23m                       \u001b[3m\u001b[90m<chr>\u001b[39m\u001b[23m      \u001b[3m\u001b[90m<dbl>\u001b[39m\u001b[23m\n",
       "\u001b[90m1\u001b[39m immune system disease EFO_0000330 childhood acute myeloid le… ENSG000…  0.037\u001b[4m0\u001b[24m\n",
       "\u001b[90m2\u001b[39m immune system disease EFO_0000330 childhood acute myeloid le… ENSG000…  0.389 \n",
       "\u001b[90m3\u001b[39m immune system disease EFO_0000330 childhood acute myeloid le… ENSG000…  0.014\u001b[4m8\u001b[24m\n",
       "\u001b[90m4\u001b[39m immune system disease EFO_0000330 childhood acute myeloid le… ENSG000…  0.389 \n",
       "\u001b[90m5\u001b[39m immune system disease EFO_0000330 childhood acute myeloid le… ENSG000…  0.268 \n",
       "\u001b[90m6\u001b[39m immune system disease EFO_0000330 childhood acute myeloid le… ENSG000…  0.357 "
      ]
     },
     "metadata": {},
     "output_type": "display_data"
    }
   ],
   "source": [
    "head(overalltable_ISD)"
   ]
  },
  {
   "cell_type": "code",
   "execution_count": 50,
   "metadata": {},
   "outputs": [
    {
     "data": {
      "text/html": [
       "<style>\n",
       ".list-inline {list-style: none; margin:0; padding: 0}\n",
       ".list-inline>li {display: inline-block}\n",
       ".list-inline>li:not(:last-child)::after {content: \"\\00b7\"; padding: 0 .5ex}\n",
       "</style>\n",
       "<ol class=list-inline><li>&lt;NA&gt;</li><li>5</li></ol>\n"
      ],
      "text/latex": [
       "\\begin{enumerate*}\n",
       "\\item <NA>\n",
       "\\item 5\n",
       "\\end{enumerate*}\n"
      ],
      "text/markdown": [
       "1. &lt;NA&gt;\n",
       "2. 5\n",
       "\n",
       "\n"
      ],
      "text/plain": [
       "[1] NA  5"
      ]
     },
     "metadata": {},
     "output_type": "display_data"
    }
   ],
   "source": [
    "dim(overalltable_ISD)"
   ]
  },
  {
   "attachments": {},
   "cell_type": "markdown",
   "metadata": {},
   "source": [
    "# datatype"
   ]
  },
  {
   "cell_type": "code",
   "execution_count": null,
   "metadata": {
    "vscode": {
     "languageId": "r"
    }
   },
   "outputs": [],
   "source": [
    "datatypePath <- \"./v23.02/associationByDatatypeDirect/\""
   ]
  },
  {
   "cell_type": "code",
   "execution_count": null,
   "metadata": {
    "vscode": {
     "languageId": "r"
    }
   },
   "outputs": [],
   "source": [
    "## read dataset\n",
    "datatype <- sparklyr::spark_read_json(sc, path = datatypePath)"
   ]
  },
  {
   "cell_type": "code",
   "execution_count": null,
   "metadata": {
    "vscode": {
     "languageId": "r"
    }
   },
   "outputs": [],
   "source": [
    "head(datatype)"
   ]
  },
  {
   "cell_type": "code",
   "execution_count": null,
   "metadata": {
    "vscode": {
     "languageId": "r"
    }
   },
   "outputs": [],
   "source": [
    "dim(datatype)"
   ]
  },
  {
   "cell_type": "markdown",
   "metadata": {},
   "source": [
    "## datatypetable"
   ]
  },
  {
   "cell_type": "code",
   "execution_count": null,
   "metadata": {
    "vscode": {
     "languageId": "r"
    }
   },
   "outputs": [],
   "source": [
    "datatypetable <- datatype %>%\n",
    "    sparklyr::select(diseaseId, targetId, datatypeId, score) %>%\n",
    "    sparklyr::pivot_wider(names_from = datatypeId, values_from = score) %>%\n",
    "    sparklyr::right_join(overalltable, by = c(\"diseaseId\", \"targetId\")) %>%\n",
    "    sparklyr::select(therapeuticAreasName, diseaseId, name, targetId, overall, \n",
    "                     affected_pathway, animal_model, genetic_association, known_drug, literature, rna_expression, somatic_mutation) "
   ]
  },
  {
   "cell_type": "code",
   "execution_count": null,
   "metadata": {
    "vscode": {
     "languageId": "r"
    }
   },
   "outputs": [],
   "source": [
    "head(datatypetable)"
   ]
  },
  {
   "cell_type": "code",
   "execution_count": null,
   "metadata": {
    "vscode": {
     "languageId": "r"
    }
   },
   "outputs": [],
   "source": [
    "dim(datatypetable)"
   ]
  },
  {
   "cell_type": "markdown",
   "metadata": {
    "jp-MarkdownHeadingCollapsed": true
   },
   "source": [
    "## datatypetable_ISD"
   ]
  },
  {
   "cell_type": "code",
   "execution_count": null,
   "metadata": {},
   "outputs": [],
   "source": [
    "datatypetable_ISD <- datatypetable %>%\n",
    "    sparklyr::filter(therapeuticAreasName == \"immune system disease\")"
   ]
  },
  {
   "cell_type": "code",
   "execution_count": null,
   "metadata": {},
   "outputs": [],
   "source": [
    "head(datatypetable_ISD)"
   ]
  },
  {
   "cell_type": "code",
   "execution_count": null,
   "metadata": {},
   "outputs": [],
   "source": [
    "dim(datatypetable_ISD)"
   ]
  },
  {
   "attachments": {},
   "cell_type": "markdown",
   "metadata": {
    "jp-MarkdownHeadingCollapsed": true
   },
   "source": [
    "# datasource"
   ]
  },
  {
   "cell_type": "code",
   "execution_count": null,
   "metadata": {
    "vscode": {
     "languageId": "r"
    }
   },
   "outputs": [],
   "source": [
    "datasourcePath <- \"./v23.02/associationByDatasourceDirect/\""
   ]
  },
  {
   "cell_type": "code",
   "execution_count": null,
   "metadata": {
    "vscode": {
     "languageId": "r"
    }
   },
   "outputs": [],
   "source": [
    "## read dataset\n",
    "datasource <- sparklyr::spark_read_json(sc, path = datasourcePath)"
   ]
  },
  {
   "cell_type": "code",
   "execution_count": null,
   "metadata": {
    "vscode": {
     "languageId": "r"
    }
   },
   "outputs": [],
   "source": [
    "head(datasource)"
   ]
  },
  {
   "cell_type": "code",
   "execution_count": null,
   "metadata": {
    "vscode": {
     "languageId": "r"
    }
   },
   "outputs": [],
   "source": [
    "dim(datasource)"
   ]
  },
  {
   "cell_type": "markdown",
   "metadata": {},
   "source": [
    "## datasourcetable_somatic_mutation"
   ]
  },
  {
   "cell_type": "code",
   "execution_count": null,
   "metadata": {
    "vscode": {
     "languageId": "r"
    }
   },
   "outputs": [],
   "source": [
    "datasourcetable_somatic_mutation <- datasource %>%\n",
    "    sparklyr::filter(datatypeId == \"somatic_mutation\") %>%\n",
    "    sparklyr::select(diseaseId, targetId, datasourceId, score) %>%\n",
    "    sparklyr::pivot_wider(names_from = datasourceId, values_from = score)"
   ]
  },
  {
   "cell_type": "code",
   "execution_count": null,
   "metadata": {
    "vscode": {
     "languageId": "r"
    }
   },
   "outputs": [],
   "source": [
    "head(datasourcetable_somatic_mutation)"
   ]
  },
  {
   "cell_type": "code",
   "execution_count": null,
   "metadata": {
    "vscode": {
     "languageId": "r"
    }
   },
   "outputs": [],
   "source": [
    "dim(datasourcetable_somatic_mutation)"
   ]
  },
  {
   "cell_type": "markdown",
   "metadata": {},
   "source": [
    "## datasourcetable_genetic_association"
   ]
  },
  {
   "cell_type": "code",
   "execution_count": null,
   "metadata": {
    "vscode": {
     "languageId": "r"
    }
   },
   "outputs": [],
   "source": [
    "datasourcetable_genetic_association <- datasource %>%\n",
    "    sparklyr::filter(datatypeId == \"genetic_association\") %>%\n",
    "    sparklyr::select(diseaseId, targetId, datasourceId, score) %>%\n",
    "    sparklyr::pivot_wider(names_from = datasourceId, values_from = score)"
   ]
  },
  {
   "cell_type": "code",
   "execution_count": null,
   "metadata": {
    "vscode": {
     "languageId": "r"
    }
   },
   "outputs": [],
   "source": [
    "head(datasourcetable_genetic_association)"
   ]
  },
  {
   "cell_type": "code",
   "execution_count": null,
   "metadata": {
    "vscode": {
     "languageId": "r"
    }
   },
   "outputs": [],
   "source": [
    "dim(datasourcetable_genetic_association)"
   ]
  },
  {
   "cell_type": "markdown",
   "metadata": {},
   "source": [
    "## datasourcetable_affected_pathway"
   ]
  },
  {
   "cell_type": "code",
   "execution_count": null,
   "metadata": {
    "vscode": {
     "languageId": "r"
    }
   },
   "outputs": [],
   "source": [
    "datasourcetable_affected_pathway <- datasource %>%\n",
    "    sparklyr::filter(datatypeId == \"affected_pathway\") %>%\n",
    "    sparklyr::select(diseaseId, targetId, datasourceId, score) %>%\n",
    "    sparklyr::pivot_wider(names_from = datasourceId, values_from = score)"
   ]
  },
  {
   "cell_type": "code",
   "execution_count": null,
   "metadata": {
    "vscode": {
     "languageId": "r"
    }
   },
   "outputs": [],
   "source": [
    "head(datasourcetable_affected_pathway)"
   ]
  },
  {
   "cell_type": "code",
   "execution_count": null,
   "metadata": {
    "vscode": {
     "languageId": "r"
    }
   },
   "outputs": [],
   "source": [
    "dim(datasourcetable_affected_pathway)"
   ]
  },
  {
   "cell_type": "markdown",
   "metadata": {},
   "source": [
    "## datasourcetable_literature"
   ]
  },
  {
   "cell_type": "code",
   "execution_count": null,
   "metadata": {
    "vscode": {
     "languageId": "r"
    }
   },
   "outputs": [],
   "source": [
    "datasourcetable_literature <- datasource %>%\n",
    "    sparklyr::filter(datatypeId == \"literature\") %>%\n",
    "    sparklyr::select(diseaseId, targetId, datasourceId, score) %>%\n",
    "    sparklyr::pivot_wider(names_from = datasourceId, values_from = score)"
   ]
  },
  {
   "cell_type": "code",
   "execution_count": null,
   "metadata": {
    "vscode": {
     "languageId": "r"
    }
   },
   "outputs": [],
   "source": [
    "head(datasourcetable_literature)"
   ]
  },
  {
   "cell_type": "code",
   "execution_count": null,
   "metadata": {
    "vscode": {
     "languageId": "r"
    }
   },
   "outputs": [],
   "source": [
    "dim(datasourcetable_literature)"
   ]
  },
  {
   "cell_type": "markdown",
   "metadata": {},
   "source": [
    "## datasourcetable_rna_expression"
   ]
  },
  {
   "cell_type": "code",
   "execution_count": null,
   "metadata": {
    "vscode": {
     "languageId": "r"
    }
   },
   "outputs": [],
   "source": [
    "datasourcetable_rna_expression <- datasource %>%\n",
    "    sparklyr::filter(datatypeId == \"rna_expression\") %>%\n",
    "    sparklyr::select(diseaseId, targetId, datasourceId, score) %>%\n",
    "    sparklyr::pivot_wider(names_from = datasourceId, values_from = score)"
   ]
  },
  {
   "cell_type": "code",
   "execution_count": null,
   "metadata": {
    "vscode": {
     "languageId": "r"
    }
   },
   "outputs": [],
   "source": [
    "head(datasourcetable_rna_expression)"
   ]
  },
  {
   "cell_type": "code",
   "execution_count": null,
   "metadata": {
    "vscode": {
     "languageId": "r"
    }
   },
   "outputs": [],
   "source": [
    "dim(datasourcetable_rna_expression)"
   ]
  },
  {
   "cell_type": "markdown",
   "metadata": {},
   "source": [
    "## datasourcetable_animal_model"
   ]
  },
  {
   "cell_type": "code",
   "execution_count": null,
   "metadata": {
    "vscode": {
     "languageId": "r"
    }
   },
   "outputs": [],
   "source": [
    "datasourcetable_animal_model <- datasource %>%\n",
    "    sparklyr::filter(datatypeId == \"animal_model\") %>%\n",
    "    sparklyr::select(diseaseId, targetId, datasourceId, score) %>%\n",
    "    sparklyr::pivot_wider(names_from = datasourceId, values_from = score)"
   ]
  },
  {
   "cell_type": "code",
   "execution_count": null,
   "metadata": {
    "vscode": {
     "languageId": "r"
    }
   },
   "outputs": [],
   "source": [
    "head(datasourcetable_animal_model)"
   ]
  },
  {
   "cell_type": "code",
   "execution_count": null,
   "metadata": {
    "vscode": {
     "languageId": "r"
    }
   },
   "outputs": [],
   "source": [
    "dim(datasourcetable_animal_model)"
   ]
  },
  {
   "cell_type": "markdown",
   "metadata": {},
   "source": [
    "## datasourcetable_known_drug"
   ]
  },
  {
   "cell_type": "code",
   "execution_count": null,
   "metadata": {
    "vscode": {
     "languageId": "r"
    }
   },
   "outputs": [],
   "source": [
    "datasourcetable_known_drug <- datasource %>%\n",
    "    sparklyr::filter(datatypeId == \"known_drug\") %>%\n",
    "    sparklyr::select(diseaseId, targetId, datasourceId, score) %>%\n",
    "    sparklyr::pivot_wider(names_from = datasourceId, values_from = score)"
   ]
  },
  {
   "cell_type": "code",
   "execution_count": null,
   "metadata": {
    "vscode": {
     "languageId": "r"
    }
   },
   "outputs": [],
   "source": [
    "head(datasourcetable_known_drug)"
   ]
  },
  {
   "cell_type": "code",
   "execution_count": null,
   "metadata": {
    "vscode": {
     "languageId": "r"
    }
   },
   "outputs": [],
   "source": [
    "dim(datasourcetable_known_drug)"
   ]
  },
  {
   "cell_type": "markdown",
   "metadata": {
    "vscode": {
     "languageId": "r"
    }
   },
   "source": [
    "# clusterProfiler"
   ]
  },
  {
   "cell_type": "code",
   "execution_count": 22,
   "metadata": {
    "vscode": {
     "languageId": "r"
    }
   },
   "outputs": [
    {
     "name": "stderr",
     "output_type": "stream",
     "text": [
      "\n",
      "\n",
      "clusterProfiler v4.6.2  For help: https://yulab-smu.top/biomedical-knowledge-mining-book/\n",
      "\n",
      "If you use clusterProfiler in published research, please cite:\n",
      "T Wu, E Hu, S Xu, M Chen, P Guo, Z Dai, T Feng, L Zhou, W Tang, L Zhan, X Fu, S Liu, X Bo, and G Yu. clusterProfiler 4.0: A universal enrichment tool for interpreting omics data. The Innovation. 2021, 2(3):100141\n",
      "\n",
      "\n",
      " 次のパッケージを付け加えます: ‘clusterProfiler’ \n",
      "\n",
      "\n",
      " 以下のオブジェクトは ‘package:purrr’ からマスクされています:\n",
      "\n",
      "    simplify\n",
      "\n",
      "\n",
      " 以下のオブジェクトは ‘package:stats’ からマスクされています:\n",
      "\n",
      "    filter\n",
      "\n",
      "\n"
     ]
    }
   ],
   "source": [
    "library(clusterProfiler)"
   ]
  },
  {
   "cell_type": "code",
   "execution_count": 79,
   "metadata": {},
   "outputs": [
    {
     "name": "stderr",
     "output_type": "stream",
     "text": [
      "\n",
      "\n"
     ]
    }
   ],
   "source": [
    "library(org.Hs.eg.db)"
   ]
  },
  {
   "cell_type": "code",
   "execution_count": 123,
   "metadata": {
    "scrolled": true
   },
   "outputs": [],
   "source": [
    "# library(mygene)"
   ]
  },
  {
   "cell_type": "code",
   "execution_count": 23,
   "metadata": {
    "vscode": {
     "languageId": "r"
    }
   },
   "outputs": [],
   "source": [
    "data(geneList, package=\"DOSE\")"
   ]
  },
  {
   "cell_type": "code",
   "execution_count": 24,
   "metadata": {},
   "outputs": [],
   "source": [
    "gene <- names(geneList)[abs(geneList) > 2]"
   ]
  },
  {
   "cell_type": "code",
   "execution_count": 25,
   "metadata": {},
   "outputs": [
    {
     "data": {
      "text/html": [
       "<style>\n",
       ".list-inline {list-style: none; margin:0; padding: 0}\n",
       ".list-inline>li {display: inline-block}\n",
       ".list-inline>li:not(:last-child)::after {content: \"\\00b7\"; padding: 0 .5ex}\n",
       "</style>\n",
       "<ol class=list-inline><li>'4312'</li><li>'8318'</li><li>'10874'</li><li>'55143'</li><li>'55388'</li><li>'991'</li></ol>\n"
      ],
      "text/latex": [
       "\\begin{enumerate*}\n",
       "\\item '4312'\n",
       "\\item '8318'\n",
       "\\item '10874'\n",
       "\\item '55143'\n",
       "\\item '55388'\n",
       "\\item '991'\n",
       "\\end{enumerate*}\n"
      ],
      "text/markdown": [
       "1. '4312'\n",
       "2. '8318'\n",
       "3. '10874'\n",
       "4. '55143'\n",
       "5. '55388'\n",
       "6. '991'\n",
       "\n",
       "\n"
      ],
      "text/plain": [
       "[1] \"4312\"  \"8318\"  \"10874\" \"55143\" \"55388\" \"991\"  "
      ]
     },
     "metadata": {},
     "output_type": "display_data"
    }
   ],
   "source": [
    "# Entrez gene ID\n",
    "head(gene)"
   ]
  },
  {
   "cell_type": "code",
   "execution_count": 34,
   "metadata": {},
   "outputs": [],
   "source": [
    "overall2 <- overall %>%\n",
    "    sparklyr::collect()"
   ]
  },
  {
   "cell_type": "code",
   "execution_count": 81,
   "metadata": {},
   "outputs": [],
   "source": [
    "# genetable <- mygene::queryMany(qterms = unique(overall2$targetId), \n",
    "#                                scopes = \"ensembl.gene\", \n",
    "#                                fields = \"entrezgene\", \n",
    "#                                species = \"human\")"
   ]
  },
  {
   "cell_type": "code",
   "execution_count": 85,
   "metadata": {},
   "outputs": [],
   "source": [
    "# genetable2 <- genetable %>% \n",
    "#     as_tibble() %>%\n",
    "#     dplyr::select(query, entrezgene) %>%\n",
    "#     dplyr::filter(!is.na(entrezgene)) %>% \n",
    "#     dplyr::distinct_all()"
   ]
  },
  {
   "cell_type": "code",
   "execution_count": 82,
   "metadata": {},
   "outputs": [
    {
     "data": {
      "text/html": [
       "<style>\n",
       ".list-inline {list-style: none; margin:0; padding: 0}\n",
       ".list-inline>li {display: inline-block}\n",
       ".list-inline>li:not(:last-child)::after {content: \"\\00b7\"; padding: 0 .5ex}\n",
       "</style>\n",
       "<ol class=list-inline><li>'ACCNUM'</li><li>'ALIAS'</li><li>'ENSEMBL'</li><li>'ENSEMBLPROT'</li><li>'ENSEMBLTRANS'</li><li>'ENTREZID'</li><li>'ENZYME'</li><li>'EVIDENCE'</li><li>'EVIDENCEALL'</li><li>'GENENAME'</li><li>'GENETYPE'</li><li>'GO'</li><li>'GOALL'</li><li>'IPI'</li><li>'MAP'</li><li>'OMIM'</li><li>'ONTOLOGY'</li><li>'ONTOLOGYALL'</li><li>'PATH'</li><li>'PFAM'</li><li>'PMID'</li><li>'PROSITE'</li><li>'REFSEQ'</li><li>'SYMBOL'</li><li>'UCSCKG'</li><li>'UNIPROT'</li></ol>\n"
      ],
      "text/latex": [
       "\\begin{enumerate*}\n",
       "\\item 'ACCNUM'\n",
       "\\item 'ALIAS'\n",
       "\\item 'ENSEMBL'\n",
       "\\item 'ENSEMBLPROT'\n",
       "\\item 'ENSEMBLTRANS'\n",
       "\\item 'ENTREZID'\n",
       "\\item 'ENZYME'\n",
       "\\item 'EVIDENCE'\n",
       "\\item 'EVIDENCEALL'\n",
       "\\item 'GENENAME'\n",
       "\\item 'GENETYPE'\n",
       "\\item 'GO'\n",
       "\\item 'GOALL'\n",
       "\\item 'IPI'\n",
       "\\item 'MAP'\n",
       "\\item 'OMIM'\n",
       "\\item 'ONTOLOGY'\n",
       "\\item 'ONTOLOGYALL'\n",
       "\\item 'PATH'\n",
       "\\item 'PFAM'\n",
       "\\item 'PMID'\n",
       "\\item 'PROSITE'\n",
       "\\item 'REFSEQ'\n",
       "\\item 'SYMBOL'\n",
       "\\item 'UCSCKG'\n",
       "\\item 'UNIPROT'\n",
       "\\end{enumerate*}\n"
      ],
      "text/markdown": [
       "1. 'ACCNUM'\n",
       "2. 'ALIAS'\n",
       "3. 'ENSEMBL'\n",
       "4. 'ENSEMBLPROT'\n",
       "5. 'ENSEMBLTRANS'\n",
       "6. 'ENTREZID'\n",
       "7. 'ENZYME'\n",
       "8. 'EVIDENCE'\n",
       "9. 'EVIDENCEALL'\n",
       "10. 'GENENAME'\n",
       "11. 'GENETYPE'\n",
       "12. 'GO'\n",
       "13. 'GOALL'\n",
       "14. 'IPI'\n",
       "15. 'MAP'\n",
       "16. 'OMIM'\n",
       "17. 'ONTOLOGY'\n",
       "18. 'ONTOLOGYALL'\n",
       "19. 'PATH'\n",
       "20. 'PFAM'\n",
       "21. 'PMID'\n",
       "22. 'PROSITE'\n",
       "23. 'REFSEQ'\n",
       "24. 'SYMBOL'\n",
       "25. 'UCSCKG'\n",
       "26. 'UNIPROT'\n",
       "\n",
       "\n"
      ],
      "text/plain": [
       " [1] \"ACCNUM\"       \"ALIAS\"        \"ENSEMBL\"      \"ENSEMBLPROT\"  \"ENSEMBLTRANS\"\n",
       " [6] \"ENTREZID\"     \"ENZYME\"       \"EVIDENCE\"     \"EVIDENCEALL\"  \"GENENAME\"    \n",
       "[11] \"GENETYPE\"     \"GO\"           \"GOALL\"        \"IPI\"          \"MAP\"         \n",
       "[16] \"OMIM\"         \"ONTOLOGY\"     \"ONTOLOGYALL\"  \"PATH\"         \"PFAM\"        \n",
       "[21] \"PMID\"         \"PROSITE\"      \"REFSEQ\"       \"SYMBOL\"       \"UCSCKG\"      \n",
       "[26] \"UNIPROT\"     "
      ]
     },
     "metadata": {},
     "output_type": "display_data"
    }
   ],
   "source": [
    "keytypes(org.Hs.eg.db)"
   ]
  },
  {
   "cell_type": "code",
   "execution_count": 83,
   "metadata": {},
   "outputs": [
    {
     "name": "stderr",
     "output_type": "stream",
     "text": [
      "'select()' returned 1:many mapping between keys and columns\n",
      "\n",
      "Warning message in bitr(unique(overall2$targetId), fromType = \"ENSEMBL\", toType = \"ENTREZID\", :\n",
      "“19.76% of input gene IDs are fail to map...”\n"
     ]
    }
   ],
   "source": [
    "genetable <- bitr(unique(overall2$targetId), \n",
    "                  fromType = \"ENSEMBL\", toType = \"ENTREZID\", \n",
    "                  OrgDb = \"org.Hs.eg.db\")"
   ]
  },
  {
   "cell_type": "code",
   "execution_count": 84,
   "metadata": {},
   "outputs": [
    {
     "data": {
      "text/html": [
       "<table class=\"dataframe\">\n",
       "<caption>A data.frame: 6 × 2</caption>\n",
       "<thead>\n",
       "\t<tr><th></th><th scope=col>ENSEMBL</th><th scope=col>ENTREZID</th></tr>\n",
       "\t<tr><th></th><th scope=col>&lt;chr&gt;</th><th scope=col>&lt;chr&gt;</th></tr>\n",
       "</thead>\n",
       "<tbody>\n",
       "\t<tr><th scope=row>1</th><td>ENSG00000000971</td><td>3075 </td></tr>\n",
       "\t<tr><th scope=row>2</th><td>ENSG00000001626</td><td>1080 </td></tr>\n",
       "\t<tr><th scope=row>3</th><td>ENSG00000002330</td><td>572  </td></tr>\n",
       "\t<tr><th scope=row>4</th><td>ENSG00000002587</td><td>9957 </td></tr>\n",
       "\t<tr><th scope=row>5</th><td>ENSG00000002726</td><td>26   </td></tr>\n",
       "\t<tr><th scope=row>6</th><td>ENSG00000002745</td><td>51384</td></tr>\n",
       "</tbody>\n",
       "</table>\n"
      ],
      "text/latex": [
       "A data.frame: 6 × 2\n",
       "\\begin{tabular}{r|ll}\n",
       "  & ENSEMBL & ENTREZID\\\\\n",
       "  & <chr> & <chr>\\\\\n",
       "\\hline\n",
       "\t1 & ENSG00000000971 & 3075 \\\\\n",
       "\t2 & ENSG00000001626 & 1080 \\\\\n",
       "\t3 & ENSG00000002330 & 572  \\\\\n",
       "\t4 & ENSG00000002587 & 9957 \\\\\n",
       "\t5 & ENSG00000002726 & 26   \\\\\n",
       "\t6 & ENSG00000002745 & 51384\\\\\n",
       "\\end{tabular}\n"
      ],
      "text/markdown": [
       "\n",
       "A data.frame: 6 × 2\n",
       "\n",
       "| <!--/--> | ENSEMBL &lt;chr&gt; | ENTREZID &lt;chr&gt; |\n",
       "|---|---|---|\n",
       "| 1 | ENSG00000000971 | 3075  |\n",
       "| 2 | ENSG00000001626 | 1080  |\n",
       "| 3 | ENSG00000002330 | 572   |\n",
       "| 4 | ENSG00000002587 | 9957  |\n",
       "| 5 | ENSG00000002726 | 26    |\n",
       "| 6 | ENSG00000002745 | 51384 |\n",
       "\n"
      ],
      "text/plain": [
       "  ENSEMBL         ENTREZID\n",
       "1 ENSG00000000971 3075    \n",
       "2 ENSG00000001626 1080    \n",
       "3 ENSG00000002330 572     \n",
       "4 ENSG00000002587 9957    \n",
       "5 ENSG00000002726 26      \n",
       "6 ENSG00000002745 51384   "
      ]
     },
     "metadata": {},
     "output_type": "display_data"
    }
   ],
   "source": [
    "head(genetable)"
   ]
  },
  {
   "cell_type": "code",
   "execution_count": 88,
   "metadata": {},
   "outputs": [],
   "source": [
    "genetable2 <- genetable %>% \n",
    "    as_tibble() %>%\n",
    "    dplyr::filter(!is.na(ENTREZID)) %>% \n",
    "    dplyr::distinct_all() %>%\n",
    "    dplyr::rename(query = ENSEMBL, entrezgene = ENTREZID)"
   ]
  },
  {
   "cell_type": "code",
   "execution_count": 51,
   "metadata": {},
   "outputs": [],
   "source": [
    "overalltable_ISD2 <- overalltable_ISD %>%\n",
    "    sparklyr::collect()"
   ]
  },
  {
   "cell_type": "code",
   "execution_count": 52,
   "metadata": {},
   "outputs": [
    {
     "data": {
      "text/html": [
       "<table class=\"dataframe\">\n",
       "<caption>A tibble: 6 × 5</caption>\n",
       "<thead>\n",
       "\t<tr><th scope=col>therapeuticAreasName</th><th scope=col>diseaseId</th><th scope=col>name</th><th scope=col>targetId</th><th scope=col>overall</th></tr>\n",
       "\t<tr><th scope=col>&lt;chr&gt;</th><th scope=col>&lt;chr&gt;</th><th scope=col>&lt;chr&gt;</th><th scope=col>&lt;chr&gt;</th><th scope=col>&lt;dbl&gt;</th></tr>\n",
       "</thead>\n",
       "<tbody>\n",
       "\t<tr><td>immune system disease</td><td>EFO_0000330</td><td>childhood acute myeloid leukemia</td><td>ENSG00000004468</td><td>0.03695799</td></tr>\n",
       "\t<tr><td>immune system disease</td><td>EFO_0000330</td><td>childhood acute myeloid leukemia</td><td>ENSG00000014138</td><td>0.38930500</td></tr>\n",
       "\t<tr><td>immune system disease</td><td>EFO_0000330</td><td>childhood acute myeloid leukemia</td><td>ENSG00000048052</td><td>0.01478319</td></tr>\n",
       "\t<tr><td>immune system disease</td><td>EFO_0000330</td><td>childhood acute myeloid leukemia</td><td>ENSG00000062822</td><td>0.38930500</td></tr>\n",
       "\t<tr><td>immune system disease</td><td>EFO_0000330</td><td>childhood acute myeloid leukemia</td><td>ENSG00000077092</td><td>0.26794539</td></tr>\n",
       "\t<tr><td>immune system disease</td><td>EFO_0000330</td><td>childhood acute myeloid leukemia</td><td>ENSG00000077097</td><td>0.35674722</td></tr>\n",
       "</tbody>\n",
       "</table>\n"
      ],
      "text/latex": [
       "A tibble: 6 × 5\n",
       "\\begin{tabular}{lllll}\n",
       " therapeuticAreasName & diseaseId & name & targetId & overall\\\\\n",
       " <chr> & <chr> & <chr> & <chr> & <dbl>\\\\\n",
       "\\hline\n",
       "\t immune system disease & EFO\\_0000330 & childhood acute myeloid leukemia & ENSG00000004468 & 0.03695799\\\\\n",
       "\t immune system disease & EFO\\_0000330 & childhood acute myeloid leukemia & ENSG00000014138 & 0.38930500\\\\\n",
       "\t immune system disease & EFO\\_0000330 & childhood acute myeloid leukemia & ENSG00000048052 & 0.01478319\\\\\n",
       "\t immune system disease & EFO\\_0000330 & childhood acute myeloid leukemia & ENSG00000062822 & 0.38930500\\\\\n",
       "\t immune system disease & EFO\\_0000330 & childhood acute myeloid leukemia & ENSG00000077092 & 0.26794539\\\\\n",
       "\t immune system disease & EFO\\_0000330 & childhood acute myeloid leukemia & ENSG00000077097 & 0.35674722\\\\\n",
       "\\end{tabular}\n"
      ],
      "text/markdown": [
       "\n",
       "A tibble: 6 × 5\n",
       "\n",
       "| therapeuticAreasName &lt;chr&gt; | diseaseId &lt;chr&gt; | name &lt;chr&gt; | targetId &lt;chr&gt; | overall &lt;dbl&gt; |\n",
       "|---|---|---|---|---|\n",
       "| immune system disease | EFO_0000330 | childhood acute myeloid leukemia | ENSG00000004468 | 0.03695799 |\n",
       "| immune system disease | EFO_0000330 | childhood acute myeloid leukemia | ENSG00000014138 | 0.38930500 |\n",
       "| immune system disease | EFO_0000330 | childhood acute myeloid leukemia | ENSG00000048052 | 0.01478319 |\n",
       "| immune system disease | EFO_0000330 | childhood acute myeloid leukemia | ENSG00000062822 | 0.38930500 |\n",
       "| immune system disease | EFO_0000330 | childhood acute myeloid leukemia | ENSG00000077092 | 0.26794539 |\n",
       "| immune system disease | EFO_0000330 | childhood acute myeloid leukemia | ENSG00000077097 | 0.35674722 |\n",
       "\n"
      ],
      "text/plain": [
       "  therapeuticAreasName  diseaseId   name                            \n",
       "1 immune system disease EFO_0000330 childhood acute myeloid leukemia\n",
       "2 immune system disease EFO_0000330 childhood acute myeloid leukemia\n",
       "3 immune system disease EFO_0000330 childhood acute myeloid leukemia\n",
       "4 immune system disease EFO_0000330 childhood acute myeloid leukemia\n",
       "5 immune system disease EFO_0000330 childhood acute myeloid leukemia\n",
       "6 immune system disease EFO_0000330 childhood acute myeloid leukemia\n",
       "  targetId        overall   \n",
       "1 ENSG00000004468 0.03695799\n",
       "2 ENSG00000014138 0.38930500\n",
       "3 ENSG00000048052 0.01478319\n",
       "4 ENSG00000062822 0.38930500\n",
       "5 ENSG00000077092 0.26794539\n",
       "6 ENSG00000077097 0.35674722"
      ]
     },
     "metadata": {},
     "output_type": "display_data"
    }
   ],
   "source": [
    "head(overalltable_ISD2)"
   ]
  },
  {
   "cell_type": "code",
   "execution_count": 89,
   "metadata": {},
   "outputs": [],
   "source": [
    "ID2GENE_ISD <- overalltable_ISD2 %>%\n",
    "    dplyr::left_join(genetable2, by = join_by(targetId == query), relationship = \"many-to-many\") %>% \n",
    "    dplyr::select(diseaseId, entrezgene, overall) %>%\n",
    "    dplyr::filter(!is.na(entrezgene)) %>%\n",
    "    dplyr::rename(ID = diseaseId, GENE = entrezgene)"
   ]
  },
  {
   "cell_type": "code",
   "execution_count": 90,
   "metadata": {},
   "outputs": [
    {
     "data": {
      "text/html": [
       "<table class=\"dataframe\">\n",
       "<caption>A tibble: 6 × 3</caption>\n",
       "<thead>\n",
       "\t<tr><th scope=col>ID</th><th scope=col>GENE</th><th scope=col>overall</th></tr>\n",
       "\t<tr><th scope=col>&lt;chr&gt;</th><th scope=col>&lt;chr&gt;</th><th scope=col>&lt;dbl&gt;</th></tr>\n",
       "</thead>\n",
       "<tbody>\n",
       "\t<tr><td>EFO_0000330</td><td>952  </td><td>0.03695799</td></tr>\n",
       "\t<tr><td>EFO_0000330</td><td>23649</td><td>0.38930500</td></tr>\n",
       "\t<tr><td>EFO_0000330</td><td>9734 </td><td>0.01478319</td></tr>\n",
       "\t<tr><td>EFO_0000330</td><td>5424 </td><td>0.38930500</td></tr>\n",
       "\t<tr><td>EFO_0000330</td><td>5915 </td><td>0.26794539</td></tr>\n",
       "\t<tr><td>EFO_0000330</td><td>7155 </td><td>0.35674722</td></tr>\n",
       "</tbody>\n",
       "</table>\n"
      ],
      "text/latex": [
       "A tibble: 6 × 3\n",
       "\\begin{tabular}{lll}\n",
       " ID & GENE & overall\\\\\n",
       " <chr> & <chr> & <dbl>\\\\\n",
       "\\hline\n",
       "\t EFO\\_0000330 & 952   & 0.03695799\\\\\n",
       "\t EFO\\_0000330 & 23649 & 0.38930500\\\\\n",
       "\t EFO\\_0000330 & 9734  & 0.01478319\\\\\n",
       "\t EFO\\_0000330 & 5424  & 0.38930500\\\\\n",
       "\t EFO\\_0000330 & 5915  & 0.26794539\\\\\n",
       "\t EFO\\_0000330 & 7155  & 0.35674722\\\\\n",
       "\\end{tabular}\n"
      ],
      "text/markdown": [
       "\n",
       "A tibble: 6 × 3\n",
       "\n",
       "| ID &lt;chr&gt; | GENE &lt;chr&gt; | overall &lt;dbl&gt; |\n",
       "|---|---|---|\n",
       "| EFO_0000330 | 952   | 0.03695799 |\n",
       "| EFO_0000330 | 23649 | 0.38930500 |\n",
       "| EFO_0000330 | 9734  | 0.01478319 |\n",
       "| EFO_0000330 | 5424  | 0.38930500 |\n",
       "| EFO_0000330 | 5915  | 0.26794539 |\n",
       "| EFO_0000330 | 7155  | 0.35674722 |\n",
       "\n"
      ],
      "text/plain": [
       "  ID          GENE  overall   \n",
       "1 EFO_0000330 952   0.03695799\n",
       "2 EFO_0000330 23649 0.38930500\n",
       "3 EFO_0000330 9734  0.01478319\n",
       "4 EFO_0000330 5424  0.38930500\n",
       "5 EFO_0000330 5915  0.26794539\n",
       "6 EFO_0000330 7155  0.35674722"
      ]
     },
     "metadata": {},
     "output_type": "display_data"
    }
   ],
   "source": [
    "head(ID2GENE_ISD)"
   ]
  },
  {
   "cell_type": "code",
   "execution_count": 91,
   "metadata": {},
   "outputs": [],
   "source": [
    "ID2TERM_ISD <- overalltable_ISD2 %>%\n",
    "    dplyr::select(diseaseId, name) %>%\n",
    "    dplyr::distinct_all() %>% \n",
    "    dplyr::rename(ID = diseaseId, TERM = name)"
   ]
  },
  {
   "cell_type": "code",
   "execution_count": 92,
   "metadata": {},
   "outputs": [
    {
     "data": {
      "text/html": [
       "<table class=\"dataframe\">\n",
       "<caption>A tibble: 6 × 2</caption>\n",
       "<thead>\n",
       "\t<tr><th scope=col>ID</th><th scope=col>TERM</th></tr>\n",
       "\t<tr><th scope=col>&lt;chr&gt;</th><th scope=col>&lt;chr&gt;</th></tr>\n",
       "</thead>\n",
       "<tbody>\n",
       "\t<tr><td>EFO_0000330</td><td>childhood acute myeloid leukemia   </td></tr>\n",
       "\t<tr><td>EFO_0000557</td><td>juvenile dermatomyositis           </td></tr>\n",
       "\t<tr><td>EFO_0000676</td><td>psoriasis                          </td></tr>\n",
       "\t<tr><td>EFO_0002428</td><td>chronic myeloproliferative disorder</td></tr>\n",
       "\t<tr><td>EFO_0002429</td><td>polycythemia vera                  </td></tr>\n",
       "\t<tr><td>EFO_0002686</td><td>atopy                              </td></tr>\n",
       "</tbody>\n",
       "</table>\n"
      ],
      "text/latex": [
       "A tibble: 6 × 2\n",
       "\\begin{tabular}{ll}\n",
       " ID & TERM\\\\\n",
       " <chr> & <chr>\\\\\n",
       "\\hline\n",
       "\t EFO\\_0000330 & childhood acute myeloid leukemia   \\\\\n",
       "\t EFO\\_0000557 & juvenile dermatomyositis           \\\\\n",
       "\t EFO\\_0000676 & psoriasis                          \\\\\n",
       "\t EFO\\_0002428 & chronic myeloproliferative disorder\\\\\n",
       "\t EFO\\_0002429 & polycythemia vera                  \\\\\n",
       "\t EFO\\_0002686 & atopy                              \\\\\n",
       "\\end{tabular}\n"
      ],
      "text/markdown": [
       "\n",
       "A tibble: 6 × 2\n",
       "\n",
       "| ID &lt;chr&gt; | TERM &lt;chr&gt; |\n",
       "|---|---|\n",
       "| EFO_0000330 | childhood acute myeloid leukemia    |\n",
       "| EFO_0000557 | juvenile dermatomyositis            |\n",
       "| EFO_0000676 | psoriasis                           |\n",
       "| EFO_0002428 | chronic myeloproliferative disorder |\n",
       "| EFO_0002429 | polycythemia vera                   |\n",
       "| EFO_0002686 | atopy                               |\n",
       "\n"
      ],
      "text/plain": [
       "  ID          TERM                               \n",
       "1 EFO_0000330 childhood acute myeloid leukemia   \n",
       "2 EFO_0000557 juvenile dermatomyositis           \n",
       "3 EFO_0000676 psoriasis                          \n",
       "4 EFO_0002428 chronic myeloproliferative disorder\n",
       "5 EFO_0002429 polycythemia vera                  \n",
       "6 EFO_0002686 atopy                              "
      ]
     },
     "metadata": {},
     "output_type": "display_data"
    }
   ],
   "source": [
    "head(ID2TERM_ISD)"
   ]
  },
  {
   "cell_type": "code",
   "execution_count": 119,
   "metadata": {},
   "outputs": [],
   "source": [
    "input_top <- 100"
   ]
  },
  {
   "cell_type": "code",
   "execution_count": 133,
   "metadata": {},
   "outputs": [],
   "source": [
    "set_ID2GENE <- ID2GENE_ISD %>%\n",
    "    dplyr::group_by(ID) %>% \n",
    "    dplyr::slice_max(n = input_top, order_by = overall) %>%\n",
    "    dplyr::ungroup()"
   ]
  },
  {
   "cell_type": "code",
   "execution_count": 107,
   "metadata": {},
   "outputs": [],
   "source": [
    "input_score_cutoff <- 0.01"
   ]
  },
  {
   "cell_type": "code",
   "execution_count": 108,
   "metadata": {},
   "outputs": [],
   "source": [
    "set_ID2GENE <- ID2GENE_ISD %>%\n",
    "    dplyr::filter(overall > input_score_cutoff)"
   ]
  },
  {
   "cell_type": "code",
   "execution_count": 124,
   "metadata": {},
   "outputs": [],
   "source": [
    "result <- enricher(gene = gene, TERM2GENE = set_ID2GENE, TERM2NAME = ID2TERM_ISD,  \n",
    "                   pvalueCutoff = 1, qvalueCutoff = 1, minGSSize = 1, maxGSSize = 20000)"
   ]
  },
  {
   "cell_type": "code",
   "execution_count": 134,
   "metadata": {},
   "outputs": [
    {
     "data": {
      "text/html": [
       "<table class=\"dataframe\">\n",
       "<caption>A tibble: 6 × 3</caption>\n",
       "<thead>\n",
       "\t<tr><th scope=col>ID</th><th scope=col>GENE</th><th scope=col>overall</th></tr>\n",
       "\t<tr><th scope=col>&lt;chr&gt;</th><th scope=col>&lt;chr&gt;</th><th scope=col>&lt;dbl&gt;</th></tr>\n",
       "</thead>\n",
       "<tbody>\n",
       "\t<tr><td>EFO_0000094</td><td>10320</td><td>0.5613255</td></tr>\n",
       "\t<tr><td>EFO_0000094</td><td>1029 </td><td>0.4794530</td></tr>\n",
       "\t<tr><td>EFO_0000094</td><td>2625 </td><td>0.4650184</td></tr>\n",
       "\t<tr><td>EFO_0000094</td><td>2078 </td><td>0.4296292</td></tr>\n",
       "\t<tr><td>EFO_0000094</td><td>930  </td><td>0.4232721</td></tr>\n",
       "\t<tr><td>EFO_0000094</td><td>916  </td><td>0.4077874</td></tr>\n",
       "</tbody>\n",
       "</table>\n"
      ],
      "text/latex": [
       "A tibble: 6 × 3\n",
       "\\begin{tabular}{lll}\n",
       " ID & GENE & overall\\\\\n",
       " <chr> & <chr> & <dbl>\\\\\n",
       "\\hline\n",
       "\t EFO\\_0000094 & 10320 & 0.5613255\\\\\n",
       "\t EFO\\_0000094 & 1029  & 0.4794530\\\\\n",
       "\t EFO\\_0000094 & 2625  & 0.4650184\\\\\n",
       "\t EFO\\_0000094 & 2078  & 0.4296292\\\\\n",
       "\t EFO\\_0000094 & 930   & 0.4232721\\\\\n",
       "\t EFO\\_0000094 & 916   & 0.4077874\\\\\n",
       "\\end{tabular}\n"
      ],
      "text/markdown": [
       "\n",
       "A tibble: 6 × 3\n",
       "\n",
       "| ID &lt;chr&gt; | GENE &lt;chr&gt; | overall &lt;dbl&gt; |\n",
       "|---|---|---|\n",
       "| EFO_0000094 | 10320 | 0.5613255 |\n",
       "| EFO_0000094 | 1029  | 0.4794530 |\n",
       "| EFO_0000094 | 2625  | 0.4650184 |\n",
       "| EFO_0000094 | 2078  | 0.4296292 |\n",
       "| EFO_0000094 | 930   | 0.4232721 |\n",
       "| EFO_0000094 | 916   | 0.4077874 |\n",
       "\n"
      ],
      "text/plain": [
       "  ID          GENE  overall  \n",
       "1 EFO_0000094 10320 0.5613255\n",
       "2 EFO_0000094 1029  0.4794530\n",
       "3 EFO_0000094 2625  0.4650184\n",
       "4 EFO_0000094 2078  0.4296292\n",
       "5 EFO_0000094 930   0.4232721\n",
       "6 EFO_0000094 916   0.4077874"
      ]
     },
     "metadata": {},
     "output_type": "display_data"
    }
   ],
   "source": [
    "head(set_ID2GENE)"
   ]
  },
  {
   "cell_type": "code",
   "execution_count": 125,
   "metadata": {},
   "outputs": [
    {
     "data": {
      "text/html": [
       "<table class=\"dataframe\">\n",
       "<caption>A tibble: 6 × 9</caption>\n",
       "<thead>\n",
       "\t<tr><th scope=col>ID</th><th scope=col>Description</th><th scope=col>GeneRatio</th><th scope=col>BgRatio</th><th scope=col>pvalue</th><th scope=col>p.adjust</th><th scope=col>qvalue</th><th scope=col>geneID</th><th scope=col>Count</th></tr>\n",
       "\t<tr><th scope=col>&lt;chr&gt;</th><th scope=col>&lt;chr&gt;</th><th scope=col>&lt;chr&gt;</th><th scope=col>&lt;chr&gt;</th><th scope=col>&lt;dbl&gt;</th><th scope=col>&lt;dbl&gt;</th><th scope=col>&lt;dbl&gt;</th><th scope=col>&lt;chr&gt;</th><th scope=col>&lt;int&gt;</th></tr>\n",
       "</thead>\n",
       "<tbody>\n",
       "\t<tr><td>MONDO_0007918</td><td>microcephaly with or without chorioretinopathy, lymphedema, or intellectual disability</td><td>4/99</td><td>20/6412 </td><td>0.0002142699</td><td>0.07246564</td><td>0.06988624</td><td>PAX6/KIF11/BMP4/NDP                       </td><td>4</td></tr>\n",
       "\t<tr><td>EFO_1000718  </td><td>irritant dermatitis                                                                   </td><td>5/99</td><td>42/6412 </td><td>0.0004288051</td><td>0.07246564</td><td>0.06988624</td><td>S100A9/CXCL10/TPX2/CXCL11/CXCL9           </td><td>5</td></tr>\n",
       "\t<tr><td>EFO_0003834  </td><td>cutaneous lupus erythematosus                                                         </td><td>7/99</td><td>100/6412</td><td>0.0008377531</td><td>0.07246564</td><td>0.06988624</td><td>MMP1/CXCL10/GZMB/LAG3/IDO1/COL17A1/SLC44A4</td><td>7</td></tr>\n",
       "\t<tr><td>MONDO_0018982</td><td>Niemann-Pick disease type C                                                           </td><td>7/99</td><td>100/6412</td><td>0.0008377531</td><td>0.07246564</td><td>0.06988624</td><td>FOXM1/CXCL10/PBK/BIRC5/EZH2/IDO1/FOXA1    </td><td>7</td></tr>\n",
       "\t<tr><td>EFO_0008601  </td><td>pemphigus foliaceus                                                                   </td><td>6/99</td><td>100/6412</td><td>0.0043106341</td><td>0.18643493</td><td>0.17979882</td><td>MMP1/S100A9/FOXM1/EZH2/COMP/FOXA1         </td><td>6</td></tr>\n",
       "\t<tr><td>MONDO_0016168</td><td>cryopyrin-associated periodic syndrome                                                </td><td>6/99</td><td>100/6412</td><td>0.0043106341</td><td>0.18643493</td><td>0.17979882</td><td>S100A9/S100A8/CXCL10/DLGAP5/CAMP/RARRES1  </td><td>6</td></tr>\n",
       "</tbody>\n",
       "</table>\n"
      ],
      "text/latex": [
       "A tibble: 6 × 9\n",
       "\\begin{tabular}{lllllllll}\n",
       " ID & Description & GeneRatio & BgRatio & pvalue & p.adjust & qvalue & geneID & Count\\\\\n",
       " <chr> & <chr> & <chr> & <chr> & <dbl> & <dbl> & <dbl> & <chr> & <int>\\\\\n",
       "\\hline\n",
       "\t MONDO\\_0007918 & microcephaly with or without chorioretinopathy, lymphedema, or intellectual disability & 4/99 & 20/6412  & 0.0002142699 & 0.07246564 & 0.06988624 & PAX6/KIF11/BMP4/NDP                        & 4\\\\\n",
       "\t EFO\\_1000718   & irritant dermatitis                                                                    & 5/99 & 42/6412  & 0.0004288051 & 0.07246564 & 0.06988624 & S100A9/CXCL10/TPX2/CXCL11/CXCL9            & 5\\\\\n",
       "\t EFO\\_0003834   & cutaneous lupus erythematosus                                                          & 7/99 & 100/6412 & 0.0008377531 & 0.07246564 & 0.06988624 & MMP1/CXCL10/GZMB/LAG3/IDO1/COL17A1/SLC44A4 & 7\\\\\n",
       "\t MONDO\\_0018982 & Niemann-Pick disease type C                                                            & 7/99 & 100/6412 & 0.0008377531 & 0.07246564 & 0.06988624 & FOXM1/CXCL10/PBK/BIRC5/EZH2/IDO1/FOXA1     & 7\\\\\n",
       "\t EFO\\_0008601   & pemphigus foliaceus                                                                    & 6/99 & 100/6412 & 0.0043106341 & 0.18643493 & 0.17979882 & MMP1/S100A9/FOXM1/EZH2/COMP/FOXA1          & 6\\\\\n",
       "\t MONDO\\_0016168 & cryopyrin-associated periodic syndrome                                                 & 6/99 & 100/6412 & 0.0043106341 & 0.18643493 & 0.17979882 & S100A9/S100A8/CXCL10/DLGAP5/CAMP/RARRES1   & 6\\\\\n",
       "\\end{tabular}\n"
      ],
      "text/markdown": [
       "\n",
       "A tibble: 6 × 9\n",
       "\n",
       "| ID &lt;chr&gt; | Description &lt;chr&gt; | GeneRatio &lt;chr&gt; | BgRatio &lt;chr&gt; | pvalue &lt;dbl&gt; | p.adjust &lt;dbl&gt; | qvalue &lt;dbl&gt; | geneID &lt;chr&gt; | Count &lt;int&gt; |\n",
       "|---|---|---|---|---|---|---|---|---|\n",
       "| MONDO_0007918 | microcephaly with or without chorioretinopathy, lymphedema, or intellectual disability | 4/99 | 20/6412  | 0.0002142699 | 0.07246564 | 0.06988624 | PAX6/KIF11/BMP4/NDP                        | 4 |\n",
       "| EFO_1000718   | irritant dermatitis                                                                    | 5/99 | 42/6412  | 0.0004288051 | 0.07246564 | 0.06988624 | S100A9/CXCL10/TPX2/CXCL11/CXCL9            | 5 |\n",
       "| EFO_0003834   | cutaneous lupus erythematosus                                                          | 7/99 | 100/6412 | 0.0008377531 | 0.07246564 | 0.06988624 | MMP1/CXCL10/GZMB/LAG3/IDO1/COL17A1/SLC44A4 | 7 |\n",
       "| MONDO_0018982 | Niemann-Pick disease type C                                                            | 7/99 | 100/6412 | 0.0008377531 | 0.07246564 | 0.06988624 | FOXM1/CXCL10/PBK/BIRC5/EZH2/IDO1/FOXA1     | 7 |\n",
       "| EFO_0008601   | pemphigus foliaceus                                                                    | 6/99 | 100/6412 | 0.0043106341 | 0.18643493 | 0.17979882 | MMP1/S100A9/FOXM1/EZH2/COMP/FOXA1          | 6 |\n",
       "| MONDO_0016168 | cryopyrin-associated periodic syndrome                                                 | 6/99 | 100/6412 | 0.0043106341 | 0.18643493 | 0.17979882 | S100A9/S100A8/CXCL10/DLGAP5/CAMP/RARRES1   | 6 |\n",
       "\n"
      ],
      "text/plain": [
       "  ID           \n",
       "1 MONDO_0007918\n",
       "2 EFO_1000718  \n",
       "3 EFO_0003834  \n",
       "4 MONDO_0018982\n",
       "5 EFO_0008601  \n",
       "6 MONDO_0016168\n",
       "  Description                                                                           \n",
       "1 microcephaly with or without chorioretinopathy, lymphedema, or intellectual disability\n",
       "2 irritant dermatitis                                                                   \n",
       "3 cutaneous lupus erythematosus                                                         \n",
       "4 Niemann-Pick disease type C                                                           \n",
       "5 pemphigus foliaceus                                                                   \n",
       "6 cryopyrin-associated periodic syndrome                                                \n",
       "  GeneRatio BgRatio  pvalue       p.adjust   qvalue    \n",
       "1 4/99      20/6412  0.0002142699 0.07246564 0.06988624\n",
       "2 5/99      42/6412  0.0004288051 0.07246564 0.06988624\n",
       "3 7/99      100/6412 0.0008377531 0.07246564 0.06988624\n",
       "4 7/99      100/6412 0.0008377531 0.07246564 0.06988624\n",
       "5 6/99      100/6412 0.0043106341 0.18643493 0.17979882\n",
       "6 6/99      100/6412 0.0043106341 0.18643493 0.17979882\n",
       "  geneID                                     Count\n",
       "1 PAX6/KIF11/BMP4/NDP                        4    \n",
       "2 S100A9/CXCL10/TPX2/CXCL11/CXCL9            5    \n",
       "3 MMP1/CXCL10/GZMB/LAG3/IDO1/COL17A1/SLC44A4 7    \n",
       "4 FOXM1/CXCL10/PBK/BIRC5/EZH2/IDO1/FOXA1     7    \n",
       "5 MMP1/S100A9/FOXM1/EZH2/COMP/FOXA1          6    \n",
       "6 S100A9/S100A8/CXCL10/DLGAP5/CAMP/RARRES1   6    "
      ]
     },
     "metadata": {},
     "output_type": "display_data"
    }
   ],
   "source": [
    "result %>%\n",
    "    setReadable(OrgDb = org.Hs.eg.db, keyType=\"ENTREZID\") %>%\n",
    "    as_tibble() %>%\n",
    "    head()"
   ]
  },
  {
   "cell_type": "code",
   "execution_count": 148,
   "metadata": {},
   "outputs": [],
   "source": [
    "OT.set_ID2GENE <- function (input_top = NULL, input_score_cutoff = NULL) {\n",
    "    if (!is.null(input_top) & is.null(input_score_cutoff)) {\n",
    "        set_ID2GENE <- ID2GENE_ISD %>%\n",
    "            dplyr::group_by(ID) %>% \n",
    "            dplyr::slice_max(n = input_top, order_by = overall) %>%\n",
    "            dplyr::ungroup()\n",
    "        \n",
    "    } else if (is.null(input_top) & !is.null(input_score_cutoff)) {\n",
    "        set_ID2GENE <- ID2GENE_ISD %>%\n",
    "            dplyr::filter(overall > input_score_cutoff)\n",
    "        \n",
    "    } else if (!is.null(input_top) & !is.null(input_score_cutoff)) {\n",
    "        set_ID2GENE <- ID2GENE_ISD\n",
    "        \n",
    "    } else {\n",
    "        message(\"Error\")\n",
    "        set_ID2GENE <- NULL\n",
    "    }\n",
    "}"
   ]
  },
  {
   "cell_type": "code",
   "execution_count": 149,
   "metadata": {},
   "outputs": [],
   "source": [
    "OT.enricher <- function (gene, set_ID2GENE, set_ID2TERM) {\n",
    "    result <- enricher(gene = gene, TERM2GENE = prep.OT.enricher.out, TERM2NAME = ID2TERM_ISD,  \n",
    "                      pvalueCutoff = 1, qvalueCutoff = 1, minGSSize = 1, maxGSSize = 20000)\n",
    "\n",
    "    return(result)\n",
    "}"
   ]
  },
  {
   "cell_type": "code",
   "execution_count": 152,
   "metadata": {},
   "outputs": [],
   "source": [
    "set_ID2GENE.out <- OT.set_ID2GENE(input_top = 200)"
   ]
  },
  {
   "cell_type": "code",
   "execution_count": 153,
   "metadata": {},
   "outputs": [],
   "source": [
    "result <- OT.enricher(gene = gene, set_ID2GENE = set_ID2GENE.out, set_ID2TERM = ID2TERM_ISD)"
   ]
  },
  {
   "cell_type": "code",
   "execution_count": 154,
   "metadata": {},
   "outputs": [
    {
     "data": {
      "text/html": [
       "<table class=\"dataframe\">\n",
       "<caption>A tibble: 6 × 9</caption>\n",
       "<thead>\n",
       "\t<tr><th scope=col>ID</th><th scope=col>Description</th><th scope=col>GeneRatio</th><th scope=col>BgRatio</th><th scope=col>pvalue</th><th scope=col>p.adjust</th><th scope=col>qvalue</th><th scope=col>geneID</th><th scope=col>Count</th></tr>\n",
       "\t<tr><th scope=col>&lt;chr&gt;</th><th scope=col>&lt;chr&gt;</th><th scope=col>&lt;chr&gt;</th><th scope=col>&lt;chr&gt;</th><th scope=col>&lt;dbl&gt;</th><th scope=col>&lt;dbl&gt;</th><th scope=col>&lt;dbl&gt;</th><th scope=col>&lt;chr&gt;</th><th scope=col>&lt;int&gt;</th></tr>\n",
       "</thead>\n",
       "<tbody>\n",
       "\t<tr><td>EFO_0003834  </td><td>cutaneous lupus erythematosus                                                         </td><td>15/127</td><td>200/8230</td><td>3.838195e-07</td><td>0.0001589013</td><td>0.0001527198</td><td>MMP1/S100A8/CXCL10/LAMP3/CXCL13/CXCL11/CXCL9/ADAMDEC1/GZMB/LAG3/IDO1/CCL8/GNLY/COL17A1/SLC44A4</td><td>15</td></tr>\n",
       "\t<tr><td>MONDO_0018982</td><td>Niemann-Pick disease type C                                                           </td><td>14/127</td><td>200/8230</td><td>2.202821e-06</td><td>0.0004559839</td><td>0.0004382454</td><td>MMP1/FOXM1/CXCL10/RRM2/PBK/CXCL9/PAX6/BIRC5/EZH2/IDO1/AURKA/FOXA1/STC2/AGR2                   </td><td>14</td></tr>\n",
       "\t<tr><td>MONDO_0007918</td><td>microcephaly with or without chorioretinopathy, lymphedema, or intellectual disability</td><td>4/127 </td><td>20/8230 </td><td>2.163486e-04</td><td>0.0296354183</td><td>0.0284825531</td><td>PAX6/KIF11/BMP4/NDP                                                                           </td><td> 4</td></tr>\n",
       "\t<tr><td>EFO_0008601  </td><td>pemphigus foliaceus                                                                   </td><td>11/127</td><td>203/8230</td><td>2.863325e-04</td><td>0.0296354183</td><td>0.0284825531</td><td>MMP1/S100A9/FOXM1/S100A8/CCL18/EZH2/MMP12/COMP/COL17A1/FABP4/FOXA1                            </td><td>11</td></tr>\n",
       "\t<tr><td>EFO_1000718  </td><td>irritant dermatitis                                                                   </td><td>5/127 </td><td>42/8230 </td><td>4.353149e-04</td><td>0.0360440727</td><td>0.0346419006</td><td>S100A9/CXCL10/TPX2/CXCL11/CXCL9                                                               </td><td> 5</td></tr>\n",
       "\t<tr><td>EFO_1000668  </td><td>allergic contact dermatitis                                                           </td><td>9/127 </td><td>181/8230</td><td>1.885422e-03</td><td>0.1300941224</td><td>0.1250332526</td><td>MMP1/CXCL10/CXCL11/CXCL9/EZH2/GZMB/MMP12/CCL8/LRP2                                            </td><td> 9</td></tr>\n",
       "</tbody>\n",
       "</table>\n"
      ],
      "text/latex": [
       "A tibble: 6 × 9\n",
       "\\begin{tabular}{lllllllll}\n",
       " ID & Description & GeneRatio & BgRatio & pvalue & p.adjust & qvalue & geneID & Count\\\\\n",
       " <chr> & <chr> & <chr> & <chr> & <dbl> & <dbl> & <dbl> & <chr> & <int>\\\\\n",
       "\\hline\n",
       "\t EFO\\_0003834   & cutaneous lupus erythematosus                                                          & 15/127 & 200/8230 & 3.838195e-07 & 0.0001589013 & 0.0001527198 & MMP1/S100A8/CXCL10/LAMP3/CXCL13/CXCL11/CXCL9/ADAMDEC1/GZMB/LAG3/IDO1/CCL8/GNLY/COL17A1/SLC44A4 & 15\\\\\n",
       "\t MONDO\\_0018982 & Niemann-Pick disease type C                                                            & 14/127 & 200/8230 & 2.202821e-06 & 0.0004559839 & 0.0004382454 & MMP1/FOXM1/CXCL10/RRM2/PBK/CXCL9/PAX6/BIRC5/EZH2/IDO1/AURKA/FOXA1/STC2/AGR2                    & 14\\\\\n",
       "\t MONDO\\_0007918 & microcephaly with or without chorioretinopathy, lymphedema, or intellectual disability & 4/127  & 20/8230  & 2.163486e-04 & 0.0296354183 & 0.0284825531 & PAX6/KIF11/BMP4/NDP                                                                            &  4\\\\\n",
       "\t EFO\\_0008601   & pemphigus foliaceus                                                                    & 11/127 & 203/8230 & 2.863325e-04 & 0.0296354183 & 0.0284825531 & MMP1/S100A9/FOXM1/S100A8/CCL18/EZH2/MMP12/COMP/COL17A1/FABP4/FOXA1                             & 11\\\\\n",
       "\t EFO\\_1000718   & irritant dermatitis                                                                    & 5/127  & 42/8230  & 4.353149e-04 & 0.0360440727 & 0.0346419006 & S100A9/CXCL10/TPX2/CXCL11/CXCL9                                                                &  5\\\\\n",
       "\t EFO\\_1000668   & allergic contact dermatitis                                                            & 9/127  & 181/8230 & 1.885422e-03 & 0.1300941224 & 0.1250332526 & MMP1/CXCL10/CXCL11/CXCL9/EZH2/GZMB/MMP12/CCL8/LRP2                                             &  9\\\\\n",
       "\\end{tabular}\n"
      ],
      "text/markdown": [
       "\n",
       "A tibble: 6 × 9\n",
       "\n",
       "| ID &lt;chr&gt; | Description &lt;chr&gt; | GeneRatio &lt;chr&gt; | BgRatio &lt;chr&gt; | pvalue &lt;dbl&gt; | p.adjust &lt;dbl&gt; | qvalue &lt;dbl&gt; | geneID &lt;chr&gt; | Count &lt;int&gt; |\n",
       "|---|---|---|---|---|---|---|---|---|\n",
       "| EFO_0003834   | cutaneous lupus erythematosus                                                          | 15/127 | 200/8230 | 3.838195e-07 | 0.0001589013 | 0.0001527198 | MMP1/S100A8/CXCL10/LAMP3/CXCL13/CXCL11/CXCL9/ADAMDEC1/GZMB/LAG3/IDO1/CCL8/GNLY/COL17A1/SLC44A4 | 15 |\n",
       "| MONDO_0018982 | Niemann-Pick disease type C                                                            | 14/127 | 200/8230 | 2.202821e-06 | 0.0004559839 | 0.0004382454 | MMP1/FOXM1/CXCL10/RRM2/PBK/CXCL9/PAX6/BIRC5/EZH2/IDO1/AURKA/FOXA1/STC2/AGR2                    | 14 |\n",
       "| MONDO_0007918 | microcephaly with or without chorioretinopathy, lymphedema, or intellectual disability | 4/127  | 20/8230  | 2.163486e-04 | 0.0296354183 | 0.0284825531 | PAX6/KIF11/BMP4/NDP                                                                            |  4 |\n",
       "| EFO_0008601   | pemphigus foliaceus                                                                    | 11/127 | 203/8230 | 2.863325e-04 | 0.0296354183 | 0.0284825531 | MMP1/S100A9/FOXM1/S100A8/CCL18/EZH2/MMP12/COMP/COL17A1/FABP4/FOXA1                             | 11 |\n",
       "| EFO_1000718   | irritant dermatitis                                                                    | 5/127  | 42/8230  | 4.353149e-04 | 0.0360440727 | 0.0346419006 | S100A9/CXCL10/TPX2/CXCL11/CXCL9                                                                |  5 |\n",
       "| EFO_1000668   | allergic contact dermatitis                                                            | 9/127  | 181/8230 | 1.885422e-03 | 0.1300941224 | 0.1250332526 | MMP1/CXCL10/CXCL11/CXCL9/EZH2/GZMB/MMP12/CCL8/LRP2                                             |  9 |\n",
       "\n"
      ],
      "text/plain": [
       "  ID           \n",
       "1 EFO_0003834  \n",
       "2 MONDO_0018982\n",
       "3 MONDO_0007918\n",
       "4 EFO_0008601  \n",
       "5 EFO_1000718  \n",
       "6 EFO_1000668  \n",
       "  Description                                                                           \n",
       "1 cutaneous lupus erythematosus                                                         \n",
       "2 Niemann-Pick disease type C                                                           \n",
       "3 microcephaly with or without chorioretinopathy, lymphedema, or intellectual disability\n",
       "4 pemphigus foliaceus                                                                   \n",
       "5 irritant dermatitis                                                                   \n",
       "6 allergic contact dermatitis                                                           \n",
       "  GeneRatio BgRatio  pvalue       p.adjust     qvalue      \n",
       "1 15/127    200/8230 3.838195e-07 0.0001589013 0.0001527198\n",
       "2 14/127    200/8230 2.202821e-06 0.0004559839 0.0004382454\n",
       "3 4/127     20/8230  2.163486e-04 0.0296354183 0.0284825531\n",
       "4 11/127    203/8230 2.863325e-04 0.0296354183 0.0284825531\n",
       "5 5/127     42/8230  4.353149e-04 0.0360440727 0.0346419006\n",
       "6 9/127     181/8230 1.885422e-03 0.1300941224 0.1250332526\n",
       "  geneID                                                                                        \n",
       "1 MMP1/S100A8/CXCL10/LAMP3/CXCL13/CXCL11/CXCL9/ADAMDEC1/GZMB/LAG3/IDO1/CCL8/GNLY/COL17A1/SLC44A4\n",
       "2 MMP1/FOXM1/CXCL10/RRM2/PBK/CXCL9/PAX6/BIRC5/EZH2/IDO1/AURKA/FOXA1/STC2/AGR2                   \n",
       "3 PAX6/KIF11/BMP4/NDP                                                                           \n",
       "4 MMP1/S100A9/FOXM1/S100A8/CCL18/EZH2/MMP12/COMP/COL17A1/FABP4/FOXA1                            \n",
       "5 S100A9/CXCL10/TPX2/CXCL11/CXCL9                                                               \n",
       "6 MMP1/CXCL10/CXCL11/CXCL9/EZH2/GZMB/MMP12/CCL8/LRP2                                            \n",
       "  Count\n",
       "1 15   \n",
       "2 14   \n",
       "3  4   \n",
       "4 11   \n",
       "5  5   \n",
       "6  9   "
      ]
     },
     "metadata": {},
     "output_type": "display_data"
    }
   ],
   "source": [
    "result %>%\n",
    "    setReadable(OrgDb = org.Hs.eg.db, keyType=\"ENTREZID\") %>%\n",
    "    as_tibble() %>%\n",
    "    head()"
   ]
  },
  {
   "cell_type": "code",
   "execution_count": null,
   "metadata": {},
   "outputs": [],
   "source": []
  }
 ],
 "metadata": {
  "kernelspec": {
   "display_name": "R4.2",
   "language": "R",
   "name": "r4.2"
  },
  "language_info": {
   "codemirror_mode": "r",
   "file_extension": ".r",
   "mimetype": "text/x-r-source",
   "name": "R",
   "pygments_lexer": "r",
   "version": "4.2.3"
  }
 },
 "nbformat": 4,
 "nbformat_minor": 4
}
